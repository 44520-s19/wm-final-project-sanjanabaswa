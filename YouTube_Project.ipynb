{
 "cells": [
  {
   "cell_type": "markdown",
   "metadata": {},
   "source": [
    "# Name: Sanjana Baswapuram\n",
    "### Question\n",
    "#### How to find the number of subscribers of two YouTube channels and also how to analyze of the views those channels?\n",
    "###### To find this I'm using \"socialblade website\".I web scraped the Top 25 YouTube channels by subscribers and collected the Top 5 Youtube channels data.I Cleaned the data collected and Visualized it in BarGraphs."
   ]
  },
  {
   "cell_type": "code",
   "execution_count": null,
   "metadata": {},
   "outputs": [],
   "source": [
    "# Libraries imported\n",
    "from bs4 import BeautifulSoup\n",
    "import pandas as pd\n",
    "import requests"
   ]
  },
  {
   "cell_type": "code",
   "execution_count": null,
   "metadata": {},
   "outputs": [],
   "source": [
    "# website used for web scraping\n",
    "url = \"https://socialblade.com/youtube/\""
   ]
  },
  {
   "cell_type": "code",
   "execution_count": null,
   "metadata": {},
   "outputs": [],
   "source": [
    "# sending html requests to the site\n",
    "html = requests.get(url)\n",
    "results = html.text"
   ]
  },
  {
   "cell_type": "code",
   "execution_count": null,
   "metadata": {},
   "outputs": [],
   "source": [
    "# printing the results\n",
    "print(results[:500])"
   ]
  },
  {
   "cell_type": "code",
   "execution_count": null,
   "metadata": {},
   "outputs": [],
   "source": [
    "import pickle\n",
    "# pickling data\n",
    "with open('data.pkl', 'wb') as f:\n",
    "    pickle.dump(results, f)\n",
    "\n",
    "# loading data from a pickle file\n",
    "with open('data.pkl', 'rb') as f:\n",
    "    new_results = pickle.load(f)\n",
    "    print(type(new_results))"
   ]
  },
  {
   "cell_type": "code",
   "execution_count": null,
   "metadata": {},
   "outputs": [],
   "source": [
    "# Extracting the results from the new_results and storing it in soup \n",
    "soup = BeautifulSoup(new_results)\n",
    "# printing the results in soup\n",
    "print(soup)"
   ]
  },
  {
   "cell_type": "code",
   "execution_count": null,
   "metadata": {},
   "outputs": [],
   "source": [
    "body = soup.findAll(\"div\",{\"class\": \"table-body\"})"
   ]
  },
  {
   "cell_type": "code",
   "execution_count": null,
   "metadata": {},
   "outputs": [],
   "source": [
    "#Preparing html data in to a table by choosing grade,channel,rank,subscribers,views and videos to be displayed\n",
    "def prepare_table_row(row):\n",
    "    lst = [i.text for i in row if i !=u'\\n']\n",
    "    return dict(rank = int(lst[0]), grade = str(lst[1]), channel = str(lst[2]), videos = float(lst[3].replace(\",\",\"\")), subscribers = float(lst[4].replace(\",\",\"\")), views = float(lst[5].replace(\",\",\"\")))"
   ]
  },
  {
   "cell_type": "code",
   "execution_count": null,
   "metadata": {},
   "outputs": [],
   "source": [
    "# printing the result of first row\n",
    "print(prepare_table_row(body[0]))"
   ]
  },
  {
   "cell_type": "code",
   "execution_count": null,
   "metadata": {},
   "outputs": [],
   "source": [
    "# performing iterations to obtain all the results\n",
    "data = []\n",
    "for tr in body:\n",
    "    datum = prepare_table_row(tr)\n",
    "    for a in tr.find_all('a', href= True):\n",
    "        datum['url'] = a['href']\n",
    "    data.append(datum)"
   ]
  },
  {
   "cell_type": "code",
   "execution_count": null,
   "metadata": {},
   "outputs": [],
   "source": [
    "# storing the result in pandas data frame\n",
    "df = pd.DataFrame(data[0:5])\n",
    "df"
   ]
  },
  {
   "cell_type": "code",
   "execution_count": null,
   "metadata": {},
   "outputs": [],
   "source": [
    "# remove unused columns\n",
    "df.drop(df.columns[[1,4]], axis=1, inplace=True)\n",
    "df.head(5)"
   ]
  },
  {
   "cell_type": "code",
   "execution_count": null,
   "metadata": {},
   "outputs": [],
   "source": [
    "import seaborn as sns\n",
    "import matplotlib.pyplot as plt\n",
    "import matplotlib.style as style\n",
    "%matplotlib inline"
   ]
  },
  {
   "cell_type": "code",
   "execution_count": null,
   "metadata": {},
   "outputs": [],
   "source": [
    "ax = sns.barplot(x=\"channel\", y=\"subscribers\", data= df, color='r')\n",
    "#style.use('seaborn-poster')\n",
    "plt.title('Channels with more number of subscribers', fontweight='bold')\n",
    "plt.xlabel(\"Channels\", fontweight='bold')\n",
    "plt.ylabel(\"Subscribers (in millions)\", fontweight='bold')\n",
    "plt.xticks(rotation=45)\n",
    "plt.tight_layout()\n",
    "plt.savefig('subscribers.png', Transparent = True)\n"
   ]
  },
  {
   "cell_type": "code",
   "execution_count": null,
   "metadata": {},
   "outputs": [],
   "source": [
    "ax = sns.barplot(x=\"channel\", y=\"views\", data= df,  color='r')\n",
    "#sns.set_context(\"poster\")\n",
    "#style.use('seaborn-poster')\n",
    "plt.title('Channels with more number of views', fontweight='bold')\n",
    "plt.xlabel(\"Channels\", fontweight='bold')\n",
    "plt.ylabel(\"Views(in billions)\", fontweight='bold')\n",
    "plt.xticks(rotation=45)\n",
    "plt.tight_layout()\n",
    "plt.savefig('views.png', Transparent = True)"
   ]
  },
  {
   "cell_type": "markdown",
   "metadata": {},
   "source": [
    "##### CONCLUSION\n",
    "###### From both the graphs we can clearly state that \"T -Series\" is a channel with highest number of subscribers and views.\n",
    "###### We can also see that the 2nd ranked channel \"PewDiePie\" has more subscribers than the 4th ranked channel \" Cocomelon - Nursery Rhymes\" but not the views.\n",
    "###### From the above two graphs, I can conclude that even if a channel is top rated based on the number of subscribers, they may have less number of views."
   ]
  }
 ],
 "metadata": {
  "kernelspec": {
   "display_name": "Python 3",
   "language": "python",
   "name": "python3"
  },
  "language_info": {
   "codemirror_mode": {
    "name": "ipython",
    "version": 3
   },
   "file_extension": ".py",
   "mimetype": "text/x-python",
   "name": "python",
   "nbconvert_exporter": "python",
   "pygments_lexer": "ipython3",
   "version": "3.7.3"
  }
 },
 "nbformat": 4,
 "nbformat_minor": 2
}
